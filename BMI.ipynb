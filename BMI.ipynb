{
 "cells": [
  {
   "cell_type": "code",
   "execution_count": 3,
   "id": "fd6a5b06-054c-4de7-a0a4-65f1a2f04b80",
   "metadata": {},
   "outputs": [],
   "source": [
    "def BMI():\n",
    "    weight=float(input(\"Enter the weight of the person in kg: \"))\n",
    "    height=float(input(\"Enter the height of the person in Meters: \"))#what to do when value is given in \"cm\", how to convert the unit to meter in program\n",
    "    bmi= weight/(height)**2\n",
    "    print(f'your BMI is:{bmi:2f}')\n",
    "    if bmi<18.5:\n",
    "            print(\"Underweight\")\n",
    "    elif bmi>=18.5 and bmi<25:\n",
    "            print(\"Normal\")\n",
    "    elif bmi>=25 and bmi<30:\n",
    "            print(\"Overweight\")\n",
    "    else:\n",
    "            print(\"Obesity\")"
   ]
  },
  {
   "cell_type": "code",
   "execution_count": 5,
   "id": "55a401e3-d53a-4369-828a-465b206d4ec7",
   "metadata": {},
   "outputs": [
    {
     "name": "stdin",
     "output_type": "stream",
     "text": [
      "Enter the weight of the person in kg:  46\n",
      "Enter the height of the person in Meters:  149\n"
     ]
    },
    {
     "name": "stdout",
     "output_type": "stream",
     "text": [
      "your BMI is:0.002072\n",
      "Underweight\n"
     ]
    }
   ],
   "source": [
    "BMI()"
   ]
  },
  {
   "cell_type": "code",
   "execution_count": null,
   "id": "42b464fd-f482-42fa-8a15-689ea26b2c95",
   "metadata": {},
   "outputs": [],
   "source": []
  }
 ],
 "metadata": {
  "kernelspec": {
   "display_name": "Python 3 (ipykernel)",
   "language": "python",
   "name": "python3"
  },
  "language_info": {
   "codemirror_mode": {
    "name": "ipython",
    "version": 3
   },
   "file_extension": ".py",
   "mimetype": "text/x-python",
   "name": "python",
   "nbconvert_exporter": "python",
   "pygments_lexer": "ipython3",
   "version": "3.12.4"
  }
 },
 "nbformat": 4,
 "nbformat_minor": 5
}
